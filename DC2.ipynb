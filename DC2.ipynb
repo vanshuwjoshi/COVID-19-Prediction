{
  "nbformat": 4,
  "nbformat_minor": 0,
  "metadata": {
    "colab": {
      "name": "DC2.ipynb",
      "provenance": [],
      "collapsed_sections": []
    },
    "kernelspec": {
      "name": "python3",
      "display_name": "Python 3"
    },
    "language_info": {
      "name": "python"
    },
    "accelerator": "GPU"
  },
  "cells": [
    {
      "cell_type": "code",
      "metadata": {
        "id": "ntFwi1dnqz9D"
      },
      "source": [
        "#unzip the train folder\n",
        "!unzip /content/updated_train.zip"
      ],
      "execution_count": null,
      "outputs": []
    },
    {
      "cell_type": "code",
      "metadata": {
        "id": "iLVsef-NrNPv"
      },
      "source": [
        "#loading required libraries\n",
        "import numpy as np\n",
        "import matplotlib.pyplot as plt\n",
        "import tqdm as tqdm\n",
        "import pandas as pd\n",
        "import numpy as np\n",
        "import os\n",
        "import PIL\n",
        "import PIL.Image\n",
        "import tensorflow as tf\n",
        "import tensorflow_datasets as tfds\n",
        "import shutil\n",
        "from tensorflow.keras.preprocessing import image"
      ],
      "execution_count": 2,
      "outputs": []
    },
    {
      "cell_type": "code",
      "metadata": {
        "id": "2s36f5tjAqH-"
      },
      "source": [
        "#Train dataset labels\n",
        "train_labels = pd.read_csv(\"/content/train_labels.csv\")"
      ],
      "execution_count": 4,
      "outputs": []
    },
    {
      "cell_type": "code",
      "metadata": {
        "colab": {
          "base_uri": "https://localhost:8080/"
        },
        "id": "Oo9YxChHehDl",
        "outputId": "de89b49a-c96e-406c-d00e-52e5adc79723"
      },
      "source": [
        "#Loading images using Keras from the directory\n",
        "data = tf.keras.utils.image_dataset_from_directory(\"/content/updated_train\",labels = \"inferred\",\n",
        "                                                   label_mode=\"int\",image_size=(32,32),                                                  \n",
        "                                                   validation_split=0.2,subset=\"training\",\n",
        "                                                   seed=1234) "
      ],
      "execution_count": 5,
      "outputs": [
        {
          "output_type": "stream",
          "name": "stdout",
          "text": [
            "Found 15264 files belonging to 2 classes.\n",
            "Using 12212 files for training.\n"
          ]
        }
      ]
    },
    {
      "cell_type": "code",
      "metadata": {
        "colab": {
          "base_uri": "https://localhost:8080/"
        },
        "id": "U4Pw1u11eg-d",
        "outputId": "58ef790b-8bc7-42dd-b5bc-0d72110ea608"
      },
      "source": [
        "#Creating a validation data set\n",
        "data_val = tf.keras.utils.image_dataset_from_directory(\"/content/updated_train\",labels = \"inferred\",\n",
        "                                                   label_mode=\"int\",image_size=(32,32),                                                 \n",
        "                                                   validation_split=0.2,subset=\"validation\",\n",
        "                                                   seed=1234)"
      ],
      "execution_count": 6,
      "outputs": [
        {
          "output_type": "stream",
          "name": "stdout",
          "text": [
            "Found 15264 files belonging to 2 classes.\n",
            "Using 3052 files for validation.\n"
          ]
        }
      ]
    },
    {
      "cell_type": "code",
      "metadata": {
        "colab": {
          "base_uri": "https://localhost:8080/"
        },
        "id": "4eDYEGh-eg7m",
        "outputId": "44e6d29e-f345-4235-ee14-4b6748e2ec02"
      },
      "source": [
        "print(data.class_names)"
      ],
      "execution_count": 7,
      "outputs": [
        {
          "output_type": "stream",
          "name": "stdout",
          "text": [
            "['0', '1']\n"
          ]
        }
      ]
    },
    {
      "cell_type": "code",
      "metadata": {
        "id": "pLN4EKTAeg4m"
      },
      "source": [
        "#normalization layer\n",
        "normalization_layer = tf.keras.layers.Rescaling(1./255)"
      ],
      "execution_count": 8,
      "outputs": []
    },
    {
      "cell_type": "code",
      "metadata": {
        "id": "eB0IeI78egwU"
      },
      "source": [
        "#normalization of dataset\n",
        "normalized_ds = data.map(lambda x, y: (normalization_layer(x), y))\n",
        "image_batch, labels_batch = next(iter(normalized_ds))"
      ],
      "execution_count": 9,
      "outputs": []
    },
    {
      "cell_type": "code",
      "metadata": {
        "id": "BW6kVx6YegmD"
      },
      "source": [
        "#Creating a CNN\n",
        "num_classes = 2\n",
        "\n",
        "model1 = tf.keras.Sequential([\n",
        "  tf.keras.layers.Rescaling(1./255),\n",
        "  tf.keras.layers.Conv2D(32, 3, activation='relu'),\n",
        "  tf.keras.layers.MaxPooling2D(),\n",
        "  tf.keras.layers.Conv2D(32, 3, padding='same', activation='relu'),\n",
        "  tf.keras.layers.MaxPooling2D(),\n",
        "  tf.keras.layers.Conv2D(32, 3, padding='same', activation='relu'),\n",
        "  tf.keras.layers.MaxPooling2D(),\n",
        "  tf.keras.layers.Dropout(0.2),\n",
        "  tf.keras.layers.Flatten(),\n",
        "  tf.keras.layers.Dense(16, activation='relu'),\n",
        "  tf.keras.layers.Dense(num_classes)\n",
        "])"
      ],
      "execution_count": 10,
      "outputs": []
    },
    {
      "cell_type": "code",
      "metadata": {
        "id": "p8LNPDDIl2mX"
      },
      "source": [
        "#Compile the model\n",
        "model1.compile(\n",
        "  optimizer='adam',\n",
        "  loss=tf.keras.losses.SparseCategoricalCrossentropy(from_logits=True),\n",
        "  metrics=['accuracy'])"
      ],
      "execution_count": 11,
      "outputs": []
    },
    {
      "cell_type": "code",
      "metadata": {
        "id": "aki9oUIxl30L",
        "colab": {
          "base_uri": "https://localhost:8080/"
        },
        "outputId": "e200e9f0-82ab-422b-a290-bdb0db407df6"
      },
      "source": [
        "#Fit the model\n",
        "m = model1.fit(\n",
        "  data,\n",
        "  validation_data=data_val,\n",
        "  epochs=30\n",
        ")"
      ],
      "execution_count": 12,
      "outputs": [
        {
          "output_type": "stream",
          "name": "stdout",
          "text": [
            "Epoch 1/30\n",
            "382/382 [==============================] - 30s 52ms/step - loss: 0.2889 - accuracy: 0.8954 - val_loss: 0.2318 - val_accuracy: 0.9024\n",
            "Epoch 2/30\n",
            "382/382 [==============================] - 20s 51ms/step - loss: 0.2302 - accuracy: 0.9138 - val_loss: 0.1947 - val_accuracy: 0.9305\n",
            "Epoch 3/30\n",
            "382/382 [==============================] - 20s 51ms/step - loss: 0.2007 - accuracy: 0.9293 - val_loss: 0.1724 - val_accuracy: 0.9391\n",
            "Epoch 4/30\n",
            "382/382 [==============================] - 20s 51ms/step - loss: 0.1747 - accuracy: 0.9368 - val_loss: 0.1558 - val_accuracy: 0.9479\n",
            "Epoch 5/30\n",
            "382/382 [==============================] - 20s 52ms/step - loss: 0.1663 - accuracy: 0.9391 - val_loss: 0.1437 - val_accuracy: 0.9518\n",
            "Epoch 6/30\n",
            "382/382 [==============================] - 20s 51ms/step - loss: 0.1526 - accuracy: 0.9453 - val_loss: 0.1382 - val_accuracy: 0.9571\n",
            "Epoch 7/30\n",
            "382/382 [==============================] - 20s 52ms/step - loss: 0.1445 - accuracy: 0.9475 - val_loss: 0.1385 - val_accuracy: 0.9548\n",
            "Epoch 8/30\n",
            "382/382 [==============================] - 20s 51ms/step - loss: 0.1383 - accuracy: 0.9487 - val_loss: 0.1300 - val_accuracy: 0.9574\n",
            "Epoch 9/30\n",
            "382/382 [==============================] - 20s 51ms/step - loss: 0.1298 - accuracy: 0.9541 - val_loss: 0.1275 - val_accuracy: 0.9594\n",
            "Epoch 10/30\n",
            "382/382 [==============================] - 20s 51ms/step - loss: 0.1217 - accuracy: 0.9549 - val_loss: 0.1210 - val_accuracy: 0.9574\n",
            "Epoch 11/30\n",
            "382/382 [==============================] - 20s 52ms/step - loss: 0.1221 - accuracy: 0.9545 - val_loss: 0.1218 - val_accuracy: 0.9587\n",
            "Epoch 12/30\n",
            "382/382 [==============================] - 20s 52ms/step - loss: 0.1123 - accuracy: 0.9594 - val_loss: 0.1350 - val_accuracy: 0.9548\n",
            "Epoch 13/30\n",
            "382/382 [==============================] - 20s 52ms/step - loss: 0.1072 - accuracy: 0.9604 - val_loss: 0.1238 - val_accuracy: 0.9561\n",
            "Epoch 14/30\n",
            "382/382 [==============================] - 20s 52ms/step - loss: 0.1032 - accuracy: 0.9632 - val_loss: 0.1173 - val_accuracy: 0.9600\n",
            "Epoch 15/30\n",
            "382/382 [==============================] - 20s 52ms/step - loss: 0.0965 - accuracy: 0.9645 - val_loss: 0.1229 - val_accuracy: 0.9594\n",
            "Epoch 16/30\n",
            "382/382 [==============================] - 20s 51ms/step - loss: 0.0920 - accuracy: 0.9659 - val_loss: 0.1174 - val_accuracy: 0.9617\n",
            "Epoch 17/30\n",
            "382/382 [==============================] - 20s 52ms/step - loss: 0.0894 - accuracy: 0.9656 - val_loss: 0.1157 - val_accuracy: 0.9597\n",
            "Epoch 18/30\n",
            "382/382 [==============================] - 20s 52ms/step - loss: 0.0804 - accuracy: 0.9680 - val_loss: 0.1272 - val_accuracy: 0.9620\n",
            "Epoch 19/30\n",
            "382/382 [==============================] - 20s 51ms/step - loss: 0.0780 - accuracy: 0.9708 - val_loss: 0.1183 - val_accuracy: 0.9633\n",
            "Epoch 20/30\n",
            "382/382 [==============================] - 20s 51ms/step - loss: 0.0738 - accuracy: 0.9705 - val_loss: 0.1269 - val_accuracy: 0.9571\n",
            "Epoch 21/30\n",
            "382/382 [==============================] - 19s 49ms/step - loss: 0.0697 - accuracy: 0.9736 - val_loss: 0.1209 - val_accuracy: 0.9646\n",
            "Epoch 22/30\n",
            "382/382 [==============================] - 19s 49ms/step - loss: 0.0661 - accuracy: 0.9745 - val_loss: 0.1538 - val_accuracy: 0.9538\n",
            "Epoch 23/30\n",
            "382/382 [==============================] - 19s 49ms/step - loss: 0.0626 - accuracy: 0.9769 - val_loss: 0.1384 - val_accuracy: 0.9630\n",
            "Epoch 24/30\n",
            "382/382 [==============================] - 19s 49ms/step - loss: 0.0575 - accuracy: 0.9790 - val_loss: 0.1321 - val_accuracy: 0.9604\n",
            "Epoch 25/30\n",
            "382/382 [==============================] - 19s 50ms/step - loss: 0.0565 - accuracy: 0.9785 - val_loss: 0.1571 - val_accuracy: 0.9610\n",
            "Epoch 26/30\n",
            "382/382 [==============================] - 19s 49ms/step - loss: 0.0542 - accuracy: 0.9803 - val_loss: 0.1477 - val_accuracy: 0.9600\n",
            "Epoch 27/30\n",
            "382/382 [==============================] - 19s 49ms/step - loss: 0.0566 - accuracy: 0.9784 - val_loss: 0.1443 - val_accuracy: 0.9607\n",
            "Epoch 28/30\n",
            "382/382 [==============================] - 19s 49ms/step - loss: 0.0506 - accuracy: 0.9804 - val_loss: 0.1402 - val_accuracy: 0.9607\n",
            "Epoch 29/30\n",
            "382/382 [==============================] - 19s 49ms/step - loss: 0.0477 - accuracy: 0.9812 - val_loss: 0.1658 - val_accuracy: 0.9597\n",
            "Epoch 30/30\n",
            "382/382 [==============================] - 19s 49ms/step - loss: 0.0455 - accuracy: 0.9830 - val_loss: 0.1772 - val_accuracy: 0.9623\n"
          ]
        }
      ]
    },
    {
      "cell_type": "code",
      "metadata": {
        "id": "6vf_lyrhvL_t"
      },
      "source": [
        "#Loading test data\n",
        "!unzip /content/test.zip\n",
        "data_test = tf.keras.utils.image_dataset_from_directory(\"/content/test/test\",labels = \"inferred\",\n",
        "                                                   label_mode=\"int\",image_size=(32,32),                                              \n",
        "                                                   seed=1234,shuffle = False)"
      ],
      "execution_count": null,
      "outputs": []
    },
    {
      "cell_type": "code",
      "metadata": {
        "id": "qLy3iHYdwGAB"
      },
      "source": [
        "#Making predictions on test data\n",
        "pred = model1.predict(data_test)\n",
        "pred"
      ],
      "execution_count": null,
      "outputs": []
    },
    {
      "cell_type": "code",
      "metadata": {
        "id": "eZkqSBaMwF2t"
      },
      "source": [
        "#getting the names of test data files\n",
        "sample = pd.read_csv(\"/content/sample_submission.csv\")"
      ],
      "execution_count": 17,
      "outputs": []
    },
    {
      "cell_type": "code",
      "metadata": {
        "id": "9WT0qSRl0AEs"
      },
      "source": [
        "file_names_test = sorted(sample['File'])"
      ],
      "execution_count": 18,
      "outputs": []
    },
    {
      "cell_type": "code",
      "metadata": {
        "id": "8uyiE1V50LjC"
      },
      "source": [
        "df = pd.DataFrame(columns=['File', 'Label'])"
      ],
      "execution_count": 19,
      "outputs": []
    },
    {
      "cell_type": "code",
      "metadata": {
        "id": "FBZwmyzT02SS"
      },
      "source": [
        "#Labeling the test data files\n",
        "for i in range(400):\n",
        "  if pred[i][1] > 0:\n",
        "    df = df.append({'File' : file_names_test[i], 'Label' : 1},ignore_index=True)\n",
        "  else:\n",
        "    df = df.append({'File' : file_names_test[i], 'Label' : 0},ignore_index=True)\n"
      ],
      "execution_count": 22,
      "outputs": []
    },
    {
      "cell_type": "code",
      "metadata": {
        "id": "1BYXBLTV1X4_"
      },
      "source": [
        "#Saving the predictions to a csv file\n",
        "df.to_csv(\"/content/result1\",header=True,index=False)"
      ],
      "execution_count": 24,
      "outputs": []
    },
    {
      "cell_type": "code",
      "metadata": {
        "id": "FIqgunXn94cW"
      },
      "source": [
        "#Using SVM for predictions\n",
        "from tensorflow.keras.layers import Conv2D\n",
        "from tensorflow.keras.layers import Dense\n",
        "from tensorflow.keras.regularizers import l2"
      ],
      "execution_count": 25,
      "outputs": []
    },
    {
      "cell_type": "code",
      "source": [
        "cnn = tf.keras.models.Sequential()\n",
        "cnn.add(tf.keras.layers.Conv2D(filters=32,padding=\"same\",kernel_size=3, activation='relu', strides=2, input_shape=[32, 32, 3]))\n",
        "cnn.add(tf.keras.layers.MaxPool2D(pool_size=2, strides=2))\n",
        "\n",
        "cnn.add(tf.keras.layers.Conv2D(filters=32,padding='same',kernel_size=3, activation='relu'))\n",
        "cnn.add(tf.keras.layers.MaxPool2D(pool_size=2, strides=2))\n",
        "cnn.add(tf.keras.layers.Flatten())\n",
        "cnn.add(tf.keras.layers.Dense(units=128, activation='relu'))\n",
        "cnn.add(Dense(1, kernel_regularizer=tf.keras.regularizers.l2(0.01),activation\n",
        "             ='linear'))"
      ],
      "metadata": {
        "id": "mot5RfbXSGJD"
      },
      "execution_count": 26,
      "outputs": []
    },
    {
      "cell_type": "code",
      "source": [
        "cnn.summary()"
      ],
      "metadata": {
        "colab": {
          "base_uri": "https://localhost:8080/"
        },
        "id": "Y5Hv0ZxtSO6n",
        "outputId": "2dc79963-0563-42e5-f140-83076ec7ceef"
      },
      "execution_count": 27,
      "outputs": [
        {
          "output_type": "stream",
          "name": "stdout",
          "text": [
            "Model: \"sequential_1\"\n",
            "_________________________________________________________________\n",
            " Layer (type)                Output Shape              Param #   \n",
            "=================================================================\n",
            " conv2d_3 (Conv2D)           (None, 16, 16, 32)        896       \n",
            "                                                                 \n",
            " max_pooling2d_3 (MaxPooling  (None, 8, 8, 32)         0         \n",
            " 2D)                                                             \n",
            "                                                                 \n",
            " conv2d_4 (Conv2D)           (None, 8, 8, 32)          9248      \n",
            "                                                                 \n",
            " max_pooling2d_4 (MaxPooling  (None, 4, 4, 32)         0         \n",
            " 2D)                                                             \n",
            "                                                                 \n",
            " flatten_1 (Flatten)         (None, 512)               0         \n",
            "                                                                 \n",
            " dense_2 (Dense)             (None, 128)               65664     \n",
            "                                                                 \n",
            " dense_3 (Dense)             (None, 1)                 129       \n",
            "                                                                 \n",
            "=================================================================\n",
            "Total params: 75,937\n",
            "Trainable params: 75,937\n",
            "Non-trainable params: 0\n",
            "_________________________________________________________________\n"
          ]
        }
      ]
    },
    {
      "cell_type": "code",
      "source": [
        "#Fitting the SVM model\n",
        "cnn.compile(optimizer = 'adam', loss = 'hinge', metrics = ['accuracy'])\n",
        "r=cnn.fit(x = data, validation_data = data_val, epochs = 30)"
      ],
      "metadata": {
        "colab": {
          "base_uri": "https://localhost:8080/"
        },
        "id": "fY6uepeBSTgi",
        "outputId": "e061ab08-6bf5-4f9a-e12d-3b61acc81c36"
      },
      "execution_count": 28,
      "outputs": [
        {
          "output_type": "stream",
          "name": "stdout",
          "text": [
            "Epoch 1/30\n",
            "382/382 [==============================] - 20s 49ms/step - loss: 0.6492 - accuracy: 0.8974 - val_loss: 0.2314 - val_accuracy: 0.9115\n",
            "Epoch 2/30\n",
            "382/382 [==============================] - 19s 49ms/step - loss: 0.2325 - accuracy: 0.9169 - val_loss: 0.2556 - val_accuracy: 0.9092\n",
            "Epoch 3/30\n",
            "382/382 [==============================] - 19s 50ms/step - loss: 0.2051 - accuracy: 0.9242 - val_loss: 0.1888 - val_accuracy: 0.9266\n",
            "Epoch 4/30\n",
            "382/382 [==============================] - 19s 50ms/step - loss: 0.1912 - accuracy: 0.9271 - val_loss: 0.2031 - val_accuracy: 0.9168\n",
            "Epoch 5/30\n",
            "382/382 [==============================] - 19s 48ms/step - loss: 0.1668 - accuracy: 0.9349 - val_loss: 0.1902 - val_accuracy: 0.9246\n",
            "Epoch 6/30\n",
            "382/382 [==============================] - 19s 49ms/step - loss: 0.1701 - accuracy: 0.9358 - val_loss: 0.1686 - val_accuracy: 0.9387\n",
            "Epoch 7/30\n",
            "382/382 [==============================] - 19s 49ms/step - loss: 0.1538 - accuracy: 0.9410 - val_loss: 0.1792 - val_accuracy: 0.9328\n",
            "Epoch 8/30\n",
            "382/382 [==============================] - 19s 49ms/step - loss: 0.1512 - accuracy: 0.9410 - val_loss: 0.1699 - val_accuracy: 0.9371\n",
            "Epoch 9/30\n",
            "382/382 [==============================] - 19s 49ms/step - loss: 0.1362 - accuracy: 0.9456 - val_loss: 0.1560 - val_accuracy: 0.9443\n",
            "Epoch 10/30\n",
            "382/382 [==============================] - 19s 50ms/step - loss: 0.1425 - accuracy: 0.9453 - val_loss: 0.1667 - val_accuracy: 0.9315\n",
            "Epoch 11/30\n",
            "374/382 [============================>.] - ETA: 0s - loss: 0.1289 - accuracy: 0.9495Epoch 12/30\n",
            "382/382 [==============================] - 18s 48ms/step - loss: 0.1173 - accuracy: 0.9531 - val_loss: 0.1583 - val_accuracy: 0.9351\n",
            "Epoch 13/30\n",
            "382/382 [==============================] - 19s 49ms/step - loss: 0.1031 - accuracy: 0.9576 - val_loss: 0.1513 - val_accuracy: 0.9413\n",
            "Epoch 14/30\n",
            "382/382 [==============================] - 19s 49ms/step - loss: 0.1065 - accuracy: 0.9566 - val_loss: 0.1754 - val_accuracy: 0.9368\n",
            "Epoch 15/30\n",
            "382/382 [==============================] - 19s 49ms/step - loss: 0.0999 - accuracy: 0.9600 - val_loss: 0.1484 - val_accuracy: 0.9463\n",
            "Epoch 16/30\n",
            "382/382 [==============================] - 19s 49ms/step - loss: 0.0967 - accuracy: 0.9600 - val_loss: 0.1723 - val_accuracy: 0.9355\n",
            "Epoch 17/30\n",
            "382/382 [==============================] - 19s 49ms/step - loss: 0.0958 - accuracy: 0.9610 - val_loss: 0.1484 - val_accuracy: 0.9482\n",
            "Epoch 18/30\n",
            "382/382 [==============================] - 18s 48ms/step - loss: 0.0900 - accuracy: 0.9639 - val_loss: 0.1456 - val_accuracy: 0.9535\n",
            "Epoch 19/30\n",
            "382/382 [==============================] - 19s 48ms/step - loss: 0.0820 - accuracy: 0.9656 - val_loss: 0.1544 - val_accuracy: 0.9427\n",
            "Epoch 20/30\n",
            "382/382 [==============================] - 19s 50ms/step - loss: 0.0842 - accuracy: 0.9646 - val_loss: 0.1600 - val_accuracy: 0.9489\n",
            "Epoch 21/30\n",
            "382/382 [==============================] - 19s 50ms/step - loss: 0.0741 - accuracy: 0.9689 - val_loss: 0.1709 - val_accuracy: 0.9489\n",
            "Epoch 22/30\n",
            "382/382 [==============================] - 19s 50ms/step - loss: 0.0747 - accuracy: 0.9689 - val_loss: 0.1580 - val_accuracy: 0.9505\n",
            "Epoch 23/30\n",
            "382/382 [==============================] - 19s 50ms/step - loss: 0.0729 - accuracy: 0.9714 - val_loss: 0.1514 - val_accuracy: 0.9509\n",
            "Epoch 24/30\n",
            "382/382 [==============================] - 20s 50ms/step - loss: 0.0671 - accuracy: 0.9719 - val_loss: 0.1527 - val_accuracy: 0.9489\n",
            "Epoch 25/30\n",
            "382/382 [==============================] - 20s 50ms/step - loss: 0.0632 - accuracy: 0.9731 - val_loss: 0.1589 - val_accuracy: 0.9538\n",
            "Epoch 26/30\n",
            "382/382 [==============================] - 20s 51ms/step - loss: 0.0609 - accuracy: 0.9743 - val_loss: 0.1634 - val_accuracy: 0.9535\n",
            "Epoch 27/30\n",
            "382/382 [==============================] - 19s 49ms/step - loss: 0.0546 - accuracy: 0.9775 - val_loss: 0.1616 - val_accuracy: 0.9502\n",
            "Epoch 28/30\n",
            "382/382 [==============================] - 19s 50ms/step - loss: 0.0565 - accuracy: 0.9762 - val_loss: 0.1699 - val_accuracy: 0.9525\n",
            "Epoch 29/30\n",
            "382/382 [==============================] - 19s 49ms/step - loss: 0.0544 - accuracy: 0.9771 - val_loss: 0.1731 - val_accuracy: 0.9535\n",
            "Epoch 30/30\n",
            "382/382 [==============================] - 19s 49ms/step - loss: 0.0494 - accuracy: 0.9798 - val_loss: 0.1650 - val_accuracy: 0.9554\n"
          ]
        }
      ]
    },
    {
      "cell_type": "code",
      "source": [
        "#Plot the loss function\n",
        "plt.plot(r.history['loss'], label='train loss')\n",
        "plt.plot(r.history['val_loss'], label='val loss')\n",
        "plt.legend()\n",
        "plt.show()\n",
        "\n",
        "#Plot the accuracy\n",
        "plt.plot(r.history['accuracy'], label='train acc')\n",
        "plt.plot(r.history['val_accuracy'], label='val acc')\n",
        "plt.legend()\n",
        "plt.show()"
      ],
      "metadata": {
        "colab": {
          "base_uri": "https://localhost:8080/",
          "height": 513
        },
        "id": "CRooYyA7ToG8",
        "outputId": "d86ade80-fe90-42d9-d6b5-d60e610b1b08"
      },
      "execution_count": 29,
      "outputs": [
        {
          "output_type": "display_data",
          "data": {
            "image/png": "[encoded data removed]",
            "text/plain": [
              "<Figure size 432x288 with 1 Axes>"
            ]
          },
          "metadata": {
            "needs_background": "light"
          }
        },
        {
          "output_type": "display_data",
          "data": {
            "image/png": "[encoded data removed]",
            "text/plain": [
              "<Figure size 432x288 with 1 Axes>"
            ]
          },
          "metadata": {
            "needs_background": "light"
          }
        }
      ]
    },
    {
      "cell_type": "code",
      "source": [
        "#Making prediction on test data\n",
        "pred_svm = cnn.predict(data_test)"
      ],
      "metadata": {
        "id": "rEVbX-0jTre1"
      },
      "execution_count": 30,
      "outputs": []
    },
    {
      "cell_type": "code",
      "source": [
        "df_svm = pd.DataFrame(columns=['File', 'Label'])"
      ],
      "metadata": {
        "id": "Lc4_0O4xUBME"
      },
      "execution_count": 31,
      "outputs": []
    },
    {
      "cell_type": "code",
      "source": [
        "#Labeling the test dataset\n",
        "for i in range(400):\n",
        "  if pred_svm[i] > 0:\n",
        "    df_svm = df_svm.append({'File' : file_names_test[i], 'Label' : 1},ignore_index=True)\n",
        "  else:\n",
        "    df_svm = df_svm.append({'File' : file_names_test[i], 'Label' : 0},ignore_index=True)"
      ],
      "metadata": {
        "id": "hjrKvH_3UHX0"
      },
      "execution_count": 32,
      "outputs": []
    },
    {
      "cell_type": "code",
      "source": [
        "#Saving predictions as csv file. \n",
        "df_svm.to_csv(\"/content/result_svm\",header=True,index=False)"
      ],
      "metadata": {
        "id": "ucMS6YtTUR2E"
      },
      "execution_count": 33,
      "outputs": []
    }
  ]
}